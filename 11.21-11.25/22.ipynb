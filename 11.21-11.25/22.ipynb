{
 "cells": [
  {
   "cell_type": "code",
   "execution_count": 1,
   "id": "2cec5ba0",
   "metadata": {
    "_cell_guid": "b1076dfc-b9ad-4769-8c92-a6c4dae69d19",
    "_uuid": "8f2839f25d086af736a60e9eeb907d3b93b6e0e5",
    "execution": {
     "iopub.execute_input": "2022-10-09T15:00:45.554791Z",
     "iopub.status.busy": "2022-10-09T15:00:45.554421Z",
     "iopub.status.idle": "2022-10-09T15:00:47.238884Z",
     "shell.execute_reply": "2022-10-09T15:00:47.237534Z"
    },
    "papermill": {
     "duration": 1.695186,
     "end_time": "2022-10-09T15:00:47.242501",
     "exception": false,
     "start_time": "2022-10-09T15:00:45.547315",
     "status": "completed"
    },
    "tags": []
   },
   "outputs": [],
   "source": [
    "import pandas as pd # 데이터 처리 모듈\n",
    "import matplotlib.pyplot as plt # 데이터 시각화 모듈\n",
    "import seaborn as sns # 데이터 시각화 모듈\n",
    "from sklearn.model_selection import train_test_split # 데이터 분할 모듈\n",
    "\n",
    "from sklearn.tree import DecisionTreeRegressor #회귀 학습(결정 나무)\n",
    "from sklearn.neighbors import KNeighborsRegressor\n",
    "from sklearn.linear_model import LinearRegression\n",
    "from sklearn.ensemble import RandomForestRegressor"
   ]
  },
  {
   "cell_type": "code",
   "execution_count": 2,
   "id": "b4c4a022",
   "metadata": {
    "execution": {
     "iopub.execute_input": "2022-10-09T15:00:47.254709Z",
     "iopub.status.busy": "2022-10-09T15:00:47.254354Z",
     "iopub.status.idle": "2022-10-09T15:00:47.267987Z",
     "shell.execute_reply": "2022-10-09T15:00:47.266272Z"
    },
    "papermill": {
     "duration": 0.022497,
     "end_time": "2022-10-09T15:00:47.270417",
     "exception": false,
     "start_time": "2022-10-09T15:00:47.247920",
     "status": "completed"
    },
    "tags": []
   },
   "outputs": [
    {
     "name": "stdout",
     "output_type": "stream",
     "text": [
      "/kaggle/input/plant-diary-new/plant_diary_new.csv\n"
     ]
    }
   ],
   "source": [
    "# import os\n",
    "# for dirname, _, filenames in os.walk('/kaggle/input'):\n",
    "#     for filename in filenames:\n",
    "#         print(os.path.join(dirname, filename))\n",
    "\n",
    "def show_files():\n",
    "    import os\n",
    "    for dirname, _, filenames in os.walk('/kaggle/input'):\n",
    "        for filename in filenames:\n",
    "            print(os.path.join(dirname, filename))\n",
    "        \n",
    "show_files()"
   ]
  },
  {
   "cell_type": "code",
   "execution_count": 3,
   "id": "cc075b61",
   "metadata": {
    "execution": {
     "iopub.execute_input": "2022-10-09T15:00:47.284132Z",
     "iopub.status.busy": "2022-10-09T15:00:47.283787Z",
     "iopub.status.idle": "2022-10-09T15:00:47.301372Z",
     "shell.execute_reply": "2022-10-09T15:00:47.300539Z"
    },
    "papermill": {
     "duration": 0.027679,
     "end_time": "2022-10-09T15:00:47.303836",
     "exception": false,
     "start_time": "2022-10-09T15:00:47.276157",
     "status": "completed"
    },
    "tags": []
   },
   "outputs": [],
   "source": [
    "#CSV 파일 읽어오기\n",
    "#pd 안에 database 저\n",
    "\n",
    "#1\n",
    "data_f = pd.read_csv('../input/plant-diary-new/plant_diary_new.csv')\n",
    "\n",
    "#2\n",
    "# read_csv() or\n",
    "# def load_csv():\n",
    "#     data_f = pd.read_csv('../input/plant-diary-new/plant_diary_new.csv')\n",
    "\n",
    "#3\n",
    "# def load_csv():\n",
    "#     data_f = pd.read_csv('../input/plant-diary-new/plant_diary_new.csv')\n",
    "#     return data_f\n",
    "\n",
    "#4\n",
    "# def load_csv(file_name):\n",
    "#     data_f = pd.read_csv(file_name)\n",
    "#     return data_f\n",
    "\n",
    "#2\n",
    "# load_csv()\n",
    "#3 지정 불가능\n",
    "# df = load_csv() # 함수 추상화하여 만듬\n",
    "#4 어떤 파일을 로드할지 지정할 수 있다\n",
    "# df = load_csv('../input/plant-diary-new/plant_diary_new.csv')"
   ]
  },
  {
   "cell_type": "code",
   "execution_count": 4,
   "id": "9e1f5a6d",
   "metadata": {
    "execution": {
     "iopub.execute_input": "2022-10-09T15:00:47.316535Z",
     "iopub.status.busy": "2022-10-09T15:00:47.316167Z",
     "iopub.status.idle": "2022-10-09T15:00:47.338083Z",
     "shell.execute_reply": "2022-10-09T15:00:47.337100Z"
    },
    "papermill": {
     "duration": 0.031099,
     "end_time": "2022-10-09T15:00:47.340547",
     "exception": false,
     "start_time": "2022-10-09T15:00:47.309448",
     "status": "completed"
    },
    "tags": []
   },
   "outputs": [
    {
     "data": {
      "text/html": [
       "<div>\n",
       "<style scoped>\n",
       "    .dataframe tbody tr th:only-of-type {\n",
       "        vertical-align: middle;\n",
       "    }\n",
       "\n",
       "    .dataframe tbody tr th {\n",
       "        vertical-align: top;\n",
       "    }\n",
       "\n",
       "    .dataframe thead th {\n",
       "        text-align: right;\n",
       "    }\n",
       "</style>\n",
       "<table border=\"1\" class=\"dataframe\">\n",
       "  <thead>\n",
       "    <tr style=\"text-align: right;\">\n",
       "      <th></th>\n",
       "      <th>day</th>\n",
       "      <th>height</th>\n",
       "      <th>leaf_width</th>\n",
       "      <th>leaf_length</th>\n",
       "      <th>owner</th>\n",
       "    </tr>\n",
       "  </thead>\n",
       "  <tbody>\n",
       "    <tr>\n",
       "      <th>0</th>\n",
       "      <td>1</td>\n",
       "      <td>0.0</td>\n",
       "      <td>0.0</td>\n",
       "      <td>0</td>\n",
       "      <td>1</td>\n",
       "    </tr>\n",
       "    <tr>\n",
       "      <th>1</th>\n",
       "      <td>1</td>\n",
       "      <td>0.0</td>\n",
       "      <td>0.0</td>\n",
       "      <td>0</td>\n",
       "      <td>2</td>\n",
       "    </tr>\n",
       "    <tr>\n",
       "      <th>2</th>\n",
       "      <td>1</td>\n",
       "      <td>0.0</td>\n",
       "      <td>0.0</td>\n",
       "      <td>0</td>\n",
       "      <td>3</td>\n",
       "    </tr>\n",
       "    <tr>\n",
       "      <th>3</th>\n",
       "      <td>5</td>\n",
       "      <td>16.0</td>\n",
       "      <td>2.8</td>\n",
       "      <td>9</td>\n",
       "      <td>1</td>\n",
       "    </tr>\n",
       "    <tr>\n",
       "      <th>4</th>\n",
       "      <td>5</td>\n",
       "      <td>16.0</td>\n",
       "      <td>2.8</td>\n",
       "      <td>9</td>\n",
       "      <td>2</td>\n",
       "    </tr>\n",
       "    <tr>\n",
       "      <th>5</th>\n",
       "      <td>5</td>\n",
       "      <td>12.0</td>\n",
       "      <td>2.9</td>\n",
       "      <td>8</td>\n",
       "      <td>3</td>\n",
       "    </tr>\n",
       "    <tr>\n",
       "      <th>6</th>\n",
       "      <td>7</td>\n",
       "      <td>33.0</td>\n",
       "      <td>4.5</td>\n",
       "      <td>15</td>\n",
       "      <td>1</td>\n",
       "    </tr>\n",
       "    <tr>\n",
       "      <th>7</th>\n",
       "      <td>7</td>\n",
       "      <td>26.0</td>\n",
       "      <td>3.8</td>\n",
       "      <td>14</td>\n",
       "      <td>2</td>\n",
       "    </tr>\n",
       "    <tr>\n",
       "      <th>8</th>\n",
       "      <td>7</td>\n",
       "      <td>25.0</td>\n",
       "      <td>4.5</td>\n",
       "      <td>13</td>\n",
       "      <td>3</td>\n",
       "    </tr>\n",
       "    <tr>\n",
       "      <th>9</th>\n",
       "      <td>10</td>\n",
       "      <td>35.0</td>\n",
       "      <td>5.0</td>\n",
       "      <td>18</td>\n",
       "      <td>1</td>\n",
       "    </tr>\n",
       "    <tr>\n",
       "      <th>10</th>\n",
       "      <td>10</td>\n",
       "      <td>30.0</td>\n",
       "      <td>4.6</td>\n",
       "      <td>16</td>\n",
       "      <td>2</td>\n",
       "    </tr>\n",
       "    <tr>\n",
       "      <th>11</th>\n",
       "      <td>10</td>\n",
       "      <td>31.0</td>\n",
       "      <td>5.5</td>\n",
       "      <td>15</td>\n",
       "      <td>3</td>\n",
       "    </tr>\n",
       "    <tr>\n",
       "      <th>12</th>\n",
       "      <td>14</td>\n",
       "      <td>50.0</td>\n",
       "      <td>6.5</td>\n",
       "      <td>25</td>\n",
       "      <td>1</td>\n",
       "    </tr>\n",
       "    <tr>\n",
       "      <th>13</th>\n",
       "      <td>14</td>\n",
       "      <td>44.0</td>\n",
       "      <td>5.8</td>\n",
       "      <td>20</td>\n",
       "      <td>2</td>\n",
       "    </tr>\n",
       "    <tr>\n",
       "      <th>14</th>\n",
       "      <td>14</td>\n",
       "      <td>45.5</td>\n",
       "      <td>6.0</td>\n",
       "      <td>19</td>\n",
       "      <td>3</td>\n",
       "    </tr>\n",
       "    <tr>\n",
       "      <th>15</th>\n",
       "      <td>20</td>\n",
       "      <td>56.0</td>\n",
       "      <td>6.0</td>\n",
       "      <td>27</td>\n",
       "      <td>1</td>\n",
       "    </tr>\n",
       "    <tr>\n",
       "      <th>16</th>\n",
       "      <td>20</td>\n",
       "      <td>50.0</td>\n",
       "      <td>6.0</td>\n",
       "      <td>22</td>\n",
       "      <td>2</td>\n",
       "    </tr>\n",
       "    <tr>\n",
       "      <th>17</th>\n",
       "      <td>20</td>\n",
       "      <td>51.0</td>\n",
       "      <td>6.5</td>\n",
       "      <td>21</td>\n",
       "      <td>3</td>\n",
       "    </tr>\n",
       "  </tbody>\n",
       "</table>\n",
       "</div>"
      ],
      "text/plain": [
       "    day  height  leaf_width  leaf_length  owner\n",
       "0     1     0.0         0.0            0      1\n",
       "1     1     0.0         0.0            0      2\n",
       "2     1     0.0         0.0            0      3\n",
       "3     5    16.0         2.8            9      1\n",
       "4     5    16.0         2.8            9      2\n",
       "5     5    12.0         2.9            8      3\n",
       "6     7    33.0         4.5           15      1\n",
       "7     7    26.0         3.8           14      2\n",
       "8     7    25.0         4.5           13      3\n",
       "9    10    35.0         5.0           18      1\n",
       "10   10    30.0         4.6           16      2\n",
       "11   10    31.0         5.5           15      3\n",
       "12   14    50.0         6.5           25      1\n",
       "13   14    44.0         5.8           20      2\n",
       "14   14    45.5         6.0           19      3\n",
       "15   20    56.0         6.0           27      1\n",
       "16   20    50.0         6.0           22      2\n",
       "17   20    51.0         6.5           21      3"
      ]
     },
     "execution_count": 4,
     "metadata": {},
     "output_type": "execute_result"
    }
   ],
   "source": [
    "data_f\n",
    "#3, 4\n",
    "# df\n",
    "# print(data_f)"
   ]
  },
  {
   "cell_type": "code",
   "execution_count": 5,
   "id": "5a0601db",
   "metadata": {
    "execution": {
     "iopub.execute_input": "2022-10-09T15:00:47.354329Z",
     "iopub.status.busy": "2022-10-09T15:00:47.353567Z",
     "iopub.status.idle": "2022-10-09T15:00:47.685989Z",
     "shell.execute_reply": "2022-10-09T15:00:47.684217Z"
    },
    "papermill": {
     "duration": 0.341791,
     "end_time": "2022-10-09T15:00:47.688728",
     "exception": false,
     "start_time": "2022-10-09T15:00:47.346937",
     "status": "completed"
    },
    "tags": []
   },
   "outputs": [
    {
     "data": {
      "image/png": "[encoded data removed]",
      "text/plain": [
       "<Figure size 864x504 with 1 Axes>"
      ]
     },
     "metadata": {
      "needs_background": "light"
     },
     "output_type": "display_data"
    }
   ],
   "source": [
    "# 읽어온 데이터 표시하기\n",
    "\n",
    "# cl = data_f['owner'].unique()\n",
    "\n",
    "# col = ['orange', 'blue', 'red', 'yellow', 'black', 'brown']\n",
    "\n",
    "# fig = data_f[data_f['owner'] == cl[0]].plot(kind='scatter', x='day', y='leaf_width', color=col[0], label=cl[0])\n",
    "\n",
    "# for i in range(len(cl)-1):\n",
    "#     data_f[data_f['owner'] == cl[i+1]].plot(kind='scatter', x='day', y='leaf_width', color=col[i+1], label=cl[i+1], ax=fig)\n",
    "\n",
    "# fig.set_xlabel('day')\n",
    "# fig.set_ylabel('leaf_width')\n",
    "# fig.set_title('day' + \" vs. \" + 'leaf_width')\n",
    "# fig=plt.gcf()\n",
    "# fig.set_size_inches(12, 7)\n",
    "# plt.show()\n",
    "\n",
    "#2\n",
    "# def plot(df, a, b, c):\n",
    "#     cl = data_f['owner'].unique()\n",
    "\n",
    "#     col = ['orange', 'blue', 'red', 'yellow', 'black', 'brown']\n",
    "\n",
    "#     fig = data_f[data_f['owner'] == cl[0]].plot(kind='scatter', x='day', y='leaf_width', color=col[0], label=cl[0])\n",
    "\n",
    "#     for i in range(len(cl)-1):\n",
    "#         data_f[data_f['owner'] == cl[i+1]].plot(kind='scatter', x='day', y='leaf_width', color=col[i+1], label=cl[i+1], ax=fig)\n",
    "\n",
    "#     fig.set_xlabel('day')\n",
    "#     fig.set_ylabel('leaf_width')\n",
    "#     fig.set_title('day' + \" vs. \" + 'leaf_width')\n",
    "#     fig=plt.gcf()\n",
    "#     fig.set_size_inches(12, 7)\n",
    "#     plt.show()\n",
    "    \n",
    "# plot(data_f, 'day', 'leaf_width', 'owner')#(데이터, x축, y축, )\n",
    "\n",
    "#3\n",
    "def plot(df, a, b, c):\n",
    "    cl = data_f[c].unique()\n",
    "\n",
    "    col = ['orange', 'blue', 'red', 'yellow', 'black', 'brown']\n",
    "\n",
    "    fig = data_f[data_f[c] == cl[0]].plot(kind='scatter', x=a, y=b, color=col[0], label=cl[0])\n",
    "\n",
    "    for i in range(len(cl)-1):\n",
    "        data_f[data_f[c] == cl[i+1]].plot(kind='scatter', x=a, y=b, color=col[i+1], label=cl[i+1], ax=fig)\n",
    "\n",
    "    fig.set_xlabel(a)\n",
    "    fig.set_ylabel(b)\n",
    "    fig.set_title(a + \" vs. \" + b)\n",
    "    fig=plt.gcf()\n",
    "    fig.set_size_inches(12, 7)\n",
    "    plt.show()\n",
    "    \n",
    "    \n",
    "#1   \n",
    "# plot(data_f, 'day', 'leaf_width', 'owner')#(데이터, x축, y축, )\n",
    "#2, 3\n",
    "plot(data_f, 'day', 'leaf_length', 'owner')#(데이터, x축, y축, )\n",
    "\n",
    "# plot(data_f, 'leaf_width', 'leaf_length', 'owner') #다른 데이터 표시"
   ]
  },
  {
   "cell_type": "code",
   "execution_count": 6,
   "id": "a8a08907",
   "metadata": {
    "execution": {
     "iopub.execute_input": "2022-10-09T15:00:47.702897Z",
     "iopub.status.busy": "2022-10-09T15:00:47.702578Z",
     "iopub.status.idle": "2022-10-09T15:00:47.904068Z",
     "shell.execute_reply": "2022-10-09T15:00:47.901942Z"
    },
    "papermill": {
     "duration": 0.212778,
     "end_time": "2022-10-09T15:00:47.907202",
     "exception": false,
     "start_time": "2022-10-09T15:00:47.694424",
     "status": "completed"
    },
    "tags": []
   },
   "outputs": [
    {
     "data": {
      "image/png": "[encoded data removed]",
      "text/plain": [
       "<Figure size 360x288 with 1 Axes>"
      ]
     },
     "metadata": {
      "needs_background": "light"
     },
     "output_type": "display_data"
    }
   ],
   "source": [
    "# 읽어온 데이터 표시하기\n",
    "#1\n",
    "# plt.figure(figsize=(5,4))\n",
    "# plt.subplot(1,1,1)\n",
    "# sns.violinplot(x='owner',y='leaf_length',data=data_f)\n",
    "\n",
    "#2\n",
    "def violin_plot(df, a, b):\n",
    "    plt.figure(figsize=(5, 4))\n",
    "    plt.subplot(1, 1, 1)\n",
    "    sns.violinplot(x='owner', y='leaf_length', data=df)\n",
    "    \n",
    "violin_plot(data_f, 'owner', 'leaf_length') #첫 번째 파라미터에 데이터 주고, 2번 째 파라미터에 x축, y축은 세번째 파라미터\n",
    "\n",
    "#첫 번째 식물의 길이가 20정도되는것이 많고 -10~ 40의 범위를 가진다"
   ]
  },
  {
   "cell_type": "code",
   "execution_count": 7,
   "id": "da742219",
   "metadata": {
    "execution": {
     "iopub.execute_input": "2022-10-09T15:00:47.921711Z",
     "iopub.status.busy": "2022-10-09T15:00:47.921357Z",
     "iopub.status.idle": "2022-10-09T15:00:48.150901Z",
     "shell.execute_reply": "2022-10-09T15:00:48.149245Z"
    },
    "papermill": {
     "duration": 0.239062,
     "end_time": "2022-10-09T15:00:48.152840",
     "exception": false,
     "start_time": "2022-10-09T15:00:47.913778",
     "status": "completed"
    },
    "tags": []
   },
   "outputs": [
    {
     "data": {
      "image/png": "[encoded data removed]",
      "text/plain": [
       "<Figure size 864x576 with 2 Axes>"
      ]
     },
     "metadata": {
      "needs_background": "light"
     },
     "output_type": "display_data"
    }
   ],
   "source": [
    "#1\n",
    "# plt.figure(figsize=(12, 8))\n",
    "# sns.heatmap(data_f[['day', 'height', 'leaf_width', 'leaf_length', 'owner']].corr(),annot=True)\n",
    "\n",
    "def show_heatmap(df, a):\n",
    "    plt.figure(figsize=(12,8))\n",
    "    sns.heatmap(df[a].corr(),annot=True)\n",
    "    \n",
    "# show_heatmap(data_f, ['day', 'height', 'leaf_width', 'leaf_length', 'owner'])  \n",
    "show_heatmap(data_f, ['day', 'leaf_width', 'leaf_length']) \n",
    "\n",
    "#show_heatmap 모듈 기억하기\n",
    "\n",
    "#히트맵은 상관 관계"
   ]
  },
  {
   "cell_type": "code",
   "execution_count": 8,
   "id": "00182573",
   "metadata": {
    "execution": {
     "iopub.execute_input": "2022-10-09T15:00:48.167113Z",
     "iopub.status.busy": "2022-10-09T15:00:48.166755Z",
     "iopub.status.idle": "2022-10-09T15:00:48.315550Z",
     "shell.execute_reply": "2022-10-09T15:00:48.314096Z"
    },
    "papermill": {
     "duration": 0.158023,
     "end_time": "2022-10-09T15:00:48.317578",
     "exception": false,
     "start_time": "2022-10-09T15:00:48.159555",
     "status": "completed"
    },
    "tags": []
   },
   "outputs": [
    {
     "data": {
      "image/png": "[encoded data removed]",
      "text/plain": [
       "<Figure size 504x360 with 1 Axes>"
      ]
     },
     "metadata": {
      "needs_background": "light"
     },
     "output_type": "display_data"
    }
   ],
   "source": [
    "#1\n",
    "# f, sub = plt.subplots(1, 1, figsize=(7, 5))\n",
    "# sns.boxplot(x=data_f['owner'], y=data_f['height'], ax = sub)\n",
    "# sub.set(xlabel='owner', ylabel = 'height');\n",
    "\n",
    "#2\n",
    "# def box_plot():\n",
    "#     f, sub = plt.subplots(1, 1, figsize=(7, 5))\n",
    "#     sns.boxplot(x=data_f['owner'], y=data_f['height'], ax = sub)\n",
    "#     sub.set(xlabel='owner', ylabel = 'height');\n",
    "    \n",
    "# box_plot()\n",
    "\n",
    "#3\n",
    "def box_plot(df, a, b):\n",
    "    f, sub = plt.subplots(1, 1, figsize=(7, 5))\n",
    "    sns.boxplot(x=df[a], y=df[b], ax = sub)\n",
    "    sub.set(xlabel=a, ylabel = b);\n",
    "    \n",
    "box_plot(data_f, 'owner', 'height')\n",
    "\n",
    "\n",
    "#최소, 최대를 나타내며(이상치) 20에서 45의 범위를 가진다"
   ]
  },
  {
   "cell_type": "code",
   "execution_count": 9,
   "id": "d9d0cc15",
   "metadata": {
    "execution": {
     "iopub.execute_input": "2022-10-09T15:00:48.336656Z",
     "iopub.status.busy": "2022-10-09T15:00:48.335948Z",
     "iopub.status.idle": "2022-10-09T15:00:48.774995Z",
     "shell.execute_reply": "2022-10-09T15:00:48.773534Z"
    },
    "papermill": {
     "duration": 0.450966,
     "end_time": "2022-10-09T15:00:48.777581",
     "exception": false,
     "start_time": "2022-10-09T15:00:48.326615",
     "status": "completed"
    },
    "tags": []
   },
   "outputs": [
    {
     "data": {
      "image/png": "[encoded data removed]",
      "text/plain": [
       "<Figure size 864x576 with 1 Axes>"
      ]
     },
     "metadata": {
      "needs_background": "light"
     },
     "output_type": "display_data"
    },
    {
     "data": {
      "image/png": "[encoded data removed]",
      "text/plain": [
       "<Figure size 864x576 with 1 Axes>"
      ]
     },
     "metadata": {
      "needs_background": "light"
     },
     "output_type": "display_data"
    }
   ],
   "source": [
    "#1\n",
    "# from mpl_toolkits.mplot3d import Axes3D\n",
    "\n",
    "# fig=plt.figure(figsize=(12,8))\n",
    "\n",
    "# ax = fig.add_subplot(1, 1, 1, projection=\"3d\")\n",
    "# ax.scatter(data_f['day'], data_f['leaf_length'], data_f['leaf_width'], c=\"blue\", alpha=.5)\n",
    "# ax.set(xlabel='day', ylabel='leaf_length', zlabel='leaf_width')\n",
    "\n",
    "#2\n",
    "# def plot_3d():\n",
    "#     from mpl_toolkits.mplot3d import Axes3D\n",
    "\n",
    "#     fig=plt.figure(figsize=(12,8))\n",
    "\n",
    "#     ax = fig.add_subplot(1, 1, 1, projection=\"3d\")\n",
    "#     ax.scatter(data_f['day'], data_f['leaf_length'], data_f['leaf_width'], c=\"blue\", alpha=.5)\n",
    "#     ax.set(xlabel='day', ylabel='leaf_length', zlabel='leaf_width')\n",
    "    \n",
    "# plot_3d()\n",
    "\n",
    "#3\n",
    "def plot_3d(df, a, b, c):\n",
    "    from mpl_toolkits.mplot3d import Axes3D\n",
    "\n",
    "    fig=plt.figure(figsize=(12,8))\n",
    "\n",
    "    ax = fig.add_subplot(1, 1, 1, projection=\"3d\")\n",
    "    ax.scatter(df[a], df[b], df[c], c=\"blue\", alpha=.5)\n",
    "    ax.set(xlabel=a, ylabel=b, zlabel=c)\n",
    "    \n",
    "plot_3d(data_f, 'day', 'leaf_length', 'leaf_width')\n",
    "plot_3d(data_f, 'leaf_length', 'day', 'leaf_width')"
   ]
  },
  {
   "cell_type": "code",
   "execution_count": 10,
   "id": "842969e7",
   "metadata": {
    "execution": {
     "iopub.execute_input": "2022-10-09T15:00:48.796454Z",
     "iopub.status.busy": "2022-10-09T15:00:48.796105Z",
     "iopub.status.idle": "2022-10-09T15:00:48.809002Z",
     "shell.execute_reply": "2022-10-09T15:00:48.807600Z"
    },
    "papermill": {
     "duration": 0.024996,
     "end_time": "2022-10-09T15:00:48.811380",
     "exception": false,
     "start_time": "2022-10-09T15:00:48.786384",
     "status": "completed"
    },
    "tags": []
   },
   "outputs": [],
   "source": [
    "# 학습용 문제, 학스용 정답, 테스트용 문제, 테스트용 정답으로 데이터를 4개로 쪼개기, split_4_parts\n",
    "train, test = train_test_split(data_f, train_size = 0.8)\n",
    "#train_size=는 80문제를 문제 공개고 20퍼는 공개 안함 train 80퍼 test 20퍼\n",
    "#from sklearn.model_selection import train_test_split # 데이터 분할 모듈 = 이것을 사용해서 사용가능\n",
    "\n",
    "# 학습용 문제와 정답\n",
    "train_X = train[['day']] # 문제\n",
    "train_y = train['height'] # 정답\n",
    "\n",
    "#테스트용 문제와 정답\n",
    "test_X = test[['day']] # 문제\n",
    "test_y = test['height'] # 정답\n",
    "\n",
    "#입력부분과 정답부분으로 day와 height로 나눔\n",
    "#['height'] = .height\n",
    "\n",
    "#실행할 때마다 새로운 데이터가 출력"
   ]
  },
  {
   "cell_type": "code",
   "execution_count": 11,
   "id": "66541f7b",
   "metadata": {
    "execution": {
     "iopub.execute_input": "2022-10-09T15:00:48.831970Z",
     "iopub.status.busy": "2022-10-09T15:00:48.831596Z",
     "iopub.status.idle": "2022-10-09T15:00:48.847289Z",
     "shell.execute_reply": "2022-10-09T15:00:48.845791Z"
    },
    "papermill": {
     "duration": 0.029424,
     "end_time": "2022-10-09T15:00:48.849938",
     "exception": false,
     "start_time": "2022-10-09T15:00:48.820514",
     "status": "completed"
    },
    "tags": []
   },
   "outputs": [
    {
     "data": {
      "text/html": [
       "<div>\n",
       "<style scoped>\n",
       "    .dataframe tbody tr th:only-of-type {\n",
       "        vertical-align: middle;\n",
       "    }\n",
       "\n",
       "    .dataframe tbody tr th {\n",
       "        vertical-align: top;\n",
       "    }\n",
       "\n",
       "    .dataframe thead th {\n",
       "        text-align: right;\n",
       "    }\n",
       "</style>\n",
       "<table border=\"1\" class=\"dataframe\">\n",
       "  <thead>\n",
       "    <tr style=\"text-align: right;\">\n",
       "      <th></th>\n",
       "      <th>day</th>\n",
       "      <th>height</th>\n",
       "      <th>leaf_width</th>\n",
       "      <th>leaf_length</th>\n",
       "      <th>owner</th>\n",
       "    </tr>\n",
       "  </thead>\n",
       "  <tbody>\n",
       "    <tr>\n",
       "      <th>5</th>\n",
       "      <td>5</td>\n",
       "      <td>12.0</td>\n",
       "      <td>2.9</td>\n",
       "      <td>8</td>\n",
       "      <td>3</td>\n",
       "    </tr>\n",
       "    <tr>\n",
       "      <th>13</th>\n",
       "      <td>14</td>\n",
       "      <td>44.0</td>\n",
       "      <td>5.8</td>\n",
       "      <td>20</td>\n",
       "      <td>2</td>\n",
       "    </tr>\n",
       "    <tr>\n",
       "      <th>11</th>\n",
       "      <td>10</td>\n",
       "      <td>31.0</td>\n",
       "      <td>5.5</td>\n",
       "      <td>15</td>\n",
       "      <td>3</td>\n",
       "    </tr>\n",
       "    <tr>\n",
       "      <th>17</th>\n",
       "      <td>20</td>\n",
       "      <td>51.0</td>\n",
       "      <td>6.5</td>\n",
       "      <td>21</td>\n",
       "      <td>3</td>\n",
       "    </tr>\n",
       "    <tr>\n",
       "      <th>16</th>\n",
       "      <td>20</td>\n",
       "      <td>50.0</td>\n",
       "      <td>6.0</td>\n",
       "      <td>22</td>\n",
       "      <td>2</td>\n",
       "    </tr>\n",
       "    <tr>\n",
       "      <th>3</th>\n",
       "      <td>5</td>\n",
       "      <td>16.0</td>\n",
       "      <td>2.8</td>\n",
       "      <td>9</td>\n",
       "      <td>1</td>\n",
       "    </tr>\n",
       "    <tr>\n",
       "      <th>12</th>\n",
       "      <td>14</td>\n",
       "      <td>50.0</td>\n",
       "      <td>6.5</td>\n",
       "      <td>25</td>\n",
       "      <td>1</td>\n",
       "    </tr>\n",
       "    <tr>\n",
       "      <th>0</th>\n",
       "      <td>1</td>\n",
       "      <td>0.0</td>\n",
       "      <td>0.0</td>\n",
       "      <td>0</td>\n",
       "      <td>1</td>\n",
       "    </tr>\n",
       "    <tr>\n",
       "      <th>15</th>\n",
       "      <td>20</td>\n",
       "      <td>56.0</td>\n",
       "      <td>6.0</td>\n",
       "      <td>27</td>\n",
       "      <td>1</td>\n",
       "    </tr>\n",
       "    <tr>\n",
       "      <th>10</th>\n",
       "      <td>10</td>\n",
       "      <td>30.0</td>\n",
       "      <td>4.6</td>\n",
       "      <td>16</td>\n",
       "      <td>2</td>\n",
       "    </tr>\n",
       "    <tr>\n",
       "      <th>4</th>\n",
       "      <td>5</td>\n",
       "      <td>16.0</td>\n",
       "      <td>2.8</td>\n",
       "      <td>9</td>\n",
       "      <td>2</td>\n",
       "    </tr>\n",
       "    <tr>\n",
       "      <th>2</th>\n",
       "      <td>1</td>\n",
       "      <td>0.0</td>\n",
       "      <td>0.0</td>\n",
       "      <td>0</td>\n",
       "      <td>3</td>\n",
       "    </tr>\n",
       "    <tr>\n",
       "      <th>14</th>\n",
       "      <td>14</td>\n",
       "      <td>45.5</td>\n",
       "      <td>6.0</td>\n",
       "      <td>19</td>\n",
       "      <td>3</td>\n",
       "    </tr>\n",
       "    <tr>\n",
       "      <th>6</th>\n",
       "      <td>7</td>\n",
       "      <td>33.0</td>\n",
       "      <td>4.5</td>\n",
       "      <td>15</td>\n",
       "      <td>1</td>\n",
       "    </tr>\n",
       "  </tbody>\n",
       "</table>\n",
       "</div>"
      ],
      "text/plain": [
       "    day  height  leaf_width  leaf_length  owner\n",
       "5     5    12.0         2.9            8      3\n",
       "13   14    44.0         5.8           20      2\n",
       "11   10    31.0         5.5           15      3\n",
       "17   20    51.0         6.5           21      3\n",
       "16   20    50.0         6.0           22      2\n",
       "3     5    16.0         2.8            9      1\n",
       "12   14    50.0         6.5           25      1\n",
       "0     1     0.0         0.0            0      1\n",
       "15   20    56.0         6.0           27      1\n",
       "10   10    30.0         4.6           16      2\n",
       "4     5    16.0         2.8            9      2\n",
       "2     1     0.0         0.0            0      3\n",
       "14   14    45.5         6.0           19      3\n",
       "6     7    33.0         4.5           15      1"
      ]
     },
     "execution_count": 11,
     "metadata": {},
     "output_type": "execute_result"
    }
   ],
   "source": [
    "train"
   ]
  },
  {
   "cell_type": "code",
   "execution_count": 12,
   "id": "01353617",
   "metadata": {
    "execution": {
     "iopub.execute_input": "2022-10-09T15:00:48.870128Z",
     "iopub.status.busy": "2022-10-09T15:00:48.869778Z",
     "iopub.status.idle": "2022-10-09T15:00:48.882316Z",
     "shell.execute_reply": "2022-10-09T15:00:48.880888Z"
    },
    "papermill": {
     "duration": 0.02515,
     "end_time": "2022-10-09T15:00:48.884265",
     "exception": false,
     "start_time": "2022-10-09T15:00:48.859115",
     "status": "completed"
    },
    "tags": []
   },
   "outputs": [
    {
     "data": {
      "text/html": [
       "<div>\n",
       "<style scoped>\n",
       "    .dataframe tbody tr th:only-of-type {\n",
       "        vertical-align: middle;\n",
       "    }\n",
       "\n",
       "    .dataframe tbody tr th {\n",
       "        vertical-align: top;\n",
       "    }\n",
       "\n",
       "    .dataframe thead th {\n",
       "        text-align: right;\n",
       "    }\n",
       "</style>\n",
       "<table border=\"1\" class=\"dataframe\">\n",
       "  <thead>\n",
       "    <tr style=\"text-align: right;\">\n",
       "      <th></th>\n",
       "      <th>day</th>\n",
       "      <th>height</th>\n",
       "      <th>leaf_width</th>\n",
       "      <th>leaf_length</th>\n",
       "      <th>owner</th>\n",
       "    </tr>\n",
       "  </thead>\n",
       "  <tbody>\n",
       "    <tr>\n",
       "      <th>9</th>\n",
       "      <td>10</td>\n",
       "      <td>35.0</td>\n",
       "      <td>5.0</td>\n",
       "      <td>18</td>\n",
       "      <td>1</td>\n",
       "    </tr>\n",
       "    <tr>\n",
       "      <th>7</th>\n",
       "      <td>7</td>\n",
       "      <td>26.0</td>\n",
       "      <td>3.8</td>\n",
       "      <td>14</td>\n",
       "      <td>2</td>\n",
       "    </tr>\n",
       "    <tr>\n",
       "      <th>1</th>\n",
       "      <td>1</td>\n",
       "      <td>0.0</td>\n",
       "      <td>0.0</td>\n",
       "      <td>0</td>\n",
       "      <td>2</td>\n",
       "    </tr>\n",
       "    <tr>\n",
       "      <th>8</th>\n",
       "      <td>7</td>\n",
       "      <td>25.0</td>\n",
       "      <td>4.5</td>\n",
       "      <td>13</td>\n",
       "      <td>3</td>\n",
       "    </tr>\n",
       "  </tbody>\n",
       "</table>\n",
       "</div>"
      ],
      "text/plain": [
       "   day  height  leaf_width  leaf_length  owner\n",
       "9   10    35.0         5.0           18      1\n",
       "7    7    26.0         3.8           14      2\n",
       "1    1     0.0         0.0            0      2\n",
       "8    7    25.0         4.5           13      3"
      ]
     },
     "execution_count": 12,
     "metadata": {},
     "output_type": "execute_result"
    }
   ],
   "source": [
    "test"
   ]
  },
  {
   "cell_type": "code",
   "execution_count": 13,
   "id": "f56ee552",
   "metadata": {
    "execution": {
     "iopub.execute_input": "2022-10-09T15:00:48.904492Z",
     "iopub.status.busy": "2022-10-09T15:00:48.904088Z",
     "iopub.status.idle": "2022-10-09T15:00:48.914190Z",
     "shell.execute_reply": "2022-10-09T15:00:48.913143Z"
    },
    "papermill": {
     "duration": 0.022898,
     "end_time": "2022-10-09T15:00:48.916523",
     "exception": false,
     "start_time": "2022-10-09T15:00:48.893625",
     "status": "completed"
    },
    "tags": []
   },
   "outputs": [
    {
     "data": {
      "text/html": [
       "<div>\n",
       "<style scoped>\n",
       "    .dataframe tbody tr th:only-of-type {\n",
       "        vertical-align: middle;\n",
       "    }\n",
       "\n",
       "    .dataframe tbody tr th {\n",
       "        vertical-align: top;\n",
       "    }\n",
       "\n",
       "    .dataframe thead th {\n",
       "        text-align: right;\n",
       "    }\n",
       "</style>\n",
       "<table border=\"1\" class=\"dataframe\">\n",
       "  <thead>\n",
       "    <tr style=\"text-align: right;\">\n",
       "      <th></th>\n",
       "      <th>day</th>\n",
       "    </tr>\n",
       "  </thead>\n",
       "  <tbody>\n",
       "    <tr>\n",
       "      <th>5</th>\n",
       "      <td>5</td>\n",
       "    </tr>\n",
       "    <tr>\n",
       "      <th>13</th>\n",
       "      <td>14</td>\n",
       "    </tr>\n",
       "    <tr>\n",
       "      <th>11</th>\n",
       "      <td>10</td>\n",
       "    </tr>\n",
       "    <tr>\n",
       "      <th>17</th>\n",
       "      <td>20</td>\n",
       "    </tr>\n",
       "    <tr>\n",
       "      <th>16</th>\n",
       "      <td>20</td>\n",
       "    </tr>\n",
       "    <tr>\n",
       "      <th>3</th>\n",
       "      <td>5</td>\n",
       "    </tr>\n",
       "    <tr>\n",
       "      <th>12</th>\n",
       "      <td>14</td>\n",
       "    </tr>\n",
       "    <tr>\n",
       "      <th>0</th>\n",
       "      <td>1</td>\n",
       "    </tr>\n",
       "    <tr>\n",
       "      <th>15</th>\n",
       "      <td>20</td>\n",
       "    </tr>\n",
       "    <tr>\n",
       "      <th>10</th>\n",
       "      <td>10</td>\n",
       "    </tr>\n",
       "    <tr>\n",
       "      <th>4</th>\n",
       "      <td>5</td>\n",
       "    </tr>\n",
       "    <tr>\n",
       "      <th>2</th>\n",
       "      <td>1</td>\n",
       "    </tr>\n",
       "    <tr>\n",
       "      <th>14</th>\n",
       "      <td>14</td>\n",
       "    </tr>\n",
       "    <tr>\n",
       "      <th>6</th>\n",
       "      <td>7</td>\n",
       "    </tr>\n",
       "  </tbody>\n",
       "</table>\n",
       "</div>"
      ],
      "text/plain": [
       "    day\n",
       "5     5\n",
       "13   14\n",
       "11   10\n",
       "17   20\n",
       "16   20\n",
       "3     5\n",
       "12   14\n",
       "0     1\n",
       "15   20\n",
       "10   10\n",
       "4     5\n",
       "2     1\n",
       "14   14\n",
       "6     7"
      ]
     },
     "execution_count": 13,
     "metadata": {},
     "output_type": "execute_result"
    }
   ],
   "source": [
    "train_X"
   ]
  },
  {
   "cell_type": "code",
   "execution_count": 14,
   "id": "ca739abc",
   "metadata": {
    "execution": {
     "iopub.execute_input": "2022-10-09T15:00:48.937306Z",
     "iopub.status.busy": "2022-10-09T15:00:48.936922Z",
     "iopub.status.idle": "2022-10-09T15:00:48.945596Z",
     "shell.execute_reply": "2022-10-09T15:00:48.944442Z"
    },
    "papermill": {
     "duration": 0.021788,
     "end_time": "2022-10-09T15:00:48.947885",
     "exception": false,
     "start_time": "2022-10-09T15:00:48.926097",
     "status": "completed"
    },
    "tags": []
   },
   "outputs": [
    {
     "data": {
      "text/plain": [
       "5     12.0\n",
       "13    44.0\n",
       "11    31.0\n",
       "17    51.0\n",
       "16    50.0\n",
       "3     16.0\n",
       "12    50.0\n",
       "0      0.0\n",
       "15    56.0\n",
       "10    30.0\n",
       "4     16.0\n",
       "2      0.0\n",
       "14    45.5\n",
       "6     33.0\n",
       "Name: height, dtype: float64"
      ]
     },
     "execution_count": 14,
     "metadata": {},
     "output_type": "execute_result"
    }
   ],
   "source": [
    "train_y"
   ]
  },
  {
   "cell_type": "code",
   "execution_count": 15,
   "id": "b831e0a1",
   "metadata": {
    "execution": {
     "iopub.execute_input": "2022-10-09T15:00:48.968868Z",
     "iopub.status.busy": "2022-10-09T15:00:48.968517Z",
     "iopub.status.idle": "2022-10-09T15:00:48.977823Z",
     "shell.execute_reply": "2022-10-09T15:00:48.976825Z"
    },
    "papermill": {
     "duration": 0.022497,
     "end_time": "2022-10-09T15:00:48.979843",
     "exception": false,
     "start_time": "2022-10-09T15:00:48.957346",
     "status": "completed"
    },
    "tags": []
   },
   "outputs": [
    {
     "data": {
      "text/html": [
       "<div>\n",
       "<style scoped>\n",
       "    .dataframe tbody tr th:only-of-type {\n",
       "        vertical-align: middle;\n",
       "    }\n",
       "\n",
       "    .dataframe tbody tr th {\n",
       "        vertical-align: top;\n",
       "    }\n",
       "\n",
       "    .dataframe thead th {\n",
       "        text-align: right;\n",
       "    }\n",
       "</style>\n",
       "<table border=\"1\" class=\"dataframe\">\n",
       "  <thead>\n",
       "    <tr style=\"text-align: right;\">\n",
       "      <th></th>\n",
       "      <th>day</th>\n",
       "    </tr>\n",
       "  </thead>\n",
       "  <tbody>\n",
       "    <tr>\n",
       "      <th>9</th>\n",
       "      <td>10</td>\n",
       "    </tr>\n",
       "    <tr>\n",
       "      <th>7</th>\n",
       "      <td>7</td>\n",
       "    </tr>\n",
       "    <tr>\n",
       "      <th>1</th>\n",
       "      <td>1</td>\n",
       "    </tr>\n",
       "    <tr>\n",
       "      <th>8</th>\n",
       "      <td>7</td>\n",
       "    </tr>\n",
       "  </tbody>\n",
       "</table>\n",
       "</div>"
      ],
      "text/plain": [
       "   day\n",
       "9   10\n",
       "7    7\n",
       "1    1\n",
       "8    7"
      ]
     },
     "execution_count": 15,
     "metadata": {},
     "output_type": "execute_result"
    }
   ],
   "source": [
    "test_X"
   ]
  },
  {
   "cell_type": "code",
   "execution_count": 16,
   "id": "7f1c1da1",
   "metadata": {
    "execution": {
     "iopub.execute_input": "2022-10-09T15:00:49.000421Z",
     "iopub.status.busy": "2022-10-09T15:00:49.000108Z",
     "iopub.status.idle": "2022-10-09T15:00:49.008834Z",
     "shell.execute_reply": "2022-10-09T15:00:49.007418Z"
    },
    "papermill": {
     "duration": 0.022501,
     "end_time": "2022-10-09T15:00:49.012032",
     "exception": false,
     "start_time": "2022-10-09T15:00:48.989531",
     "status": "completed"
    },
    "tags": []
   },
   "outputs": [
    {
     "data": {
      "text/plain": [
       "9    35.0\n",
       "7    26.0\n",
       "1     0.0\n",
       "8    25.0\n",
       "Name: height, dtype: float64"
      ]
     },
     "execution_count": 16,
     "metadata": {},
     "output_type": "execute_result"
    }
   ],
   "source": [
    "test_y"
   ]
  },
  {
   "cell_type": "code",
   "execution_count": 17,
   "id": "3ef8343a",
   "metadata": {
    "execution": {
     "iopub.execute_input": "2022-10-09T15:00:49.033252Z",
     "iopub.status.busy": "2022-10-09T15:00:49.032909Z",
     "iopub.status.idle": "2022-10-09T15:00:49.044435Z",
     "shell.execute_reply": "2022-10-09T15:00:49.042921Z"
    },
    "papermill": {
     "duration": 0.025503,
     "end_time": "2022-10-09T15:00:49.047516",
     "exception": false,
     "start_time": "2022-10-09T15:00:49.022013",
     "status": "completed"
    },
    "tags": []
   },
   "outputs": [
    {
     "name": "stdout",
     "output_type": "stream",
     "text": [
      "Score: 0.803\n"
     ]
    }
   ],
   "source": [
    "#시험공부시키기, learn\n",
    "gildong = DecisionTreeRegressor(random_state = 0) #인공지능 알고리즘\n",
    "gildong.fit(train_X, train_y) #fit은 길동이에게 이 데이터를 몸에 맞게 학습 시켜줌\n",
    "\n",
    "#테스트한(기말고사) 후 점수까지 계산하기, test_score\n",
    "score = gildong.score(test_X, test_y) #테스트 문제, 테스트 정답 #스스로 자기가 문제와 정답 체크\n",
    "print('Score:', format(score, '.3f')) # score의 의미: 정확하게 예측하면 1, 평균으로 예측하면 0, 더 못 예측하면 음\n",
    "#score 리턴된 값"
   ]
  },
  {
   "cell_type": "code",
   "execution_count": 18,
   "id": "799aeae9",
   "metadata": {
    "execution": {
     "iopub.execute_input": "2022-10-09T15:00:49.071387Z",
     "iopub.status.busy": "2022-10-09T15:00:49.068987Z",
     "iopub.status.idle": "2022-10-09T15:00:49.081639Z",
     "shell.execute_reply": "2022-10-09T15:00:49.080139Z"
    },
    "papermill": {
     "duration": 0.026373,
     "end_time": "2022-10-09T15:00:49.084167",
     "exception": false,
     "start_time": "2022-10-09T15:00:49.057794",
     "status": "completed"
    },
    "tags": []
   },
   "outputs": [
    {
     "name": "stdout",
     "output_type": "stream",
     "text": [
      "   day\n",
      "9   10\n",
      "7    7\n",
      "1    1\n",
      "8    7\n",
      "------\n",
      "9    35.0\n",
      "7    26.0\n",
      "1     0.0\n",
      "8    25.0\n",
      "Name: height, dtype: float64\n"
     ]
    }
   ],
   "source": [
    "#테스트 문제지와 정답 출력해보기, show_test_data\n",
    "print(test_X) #입력: 10일 후에는\n",
    "print('------')\n",
    "print(test_y) #정답 : 35만큼 자란다.\n",
    "\n",
    "#위가 기말고사 문제와 정답 출력"
   ]
  },
  {
   "cell_type": "code",
   "execution_count": 19,
   "id": "a69a277a",
   "metadata": {
    "execution": {
     "iopub.execute_input": "2022-10-09T15:00:49.104919Z",
     "iopub.status.busy": "2022-10-09T15:00:49.104600Z",
     "iopub.status.idle": "2022-10-09T15:00:49.112801Z",
     "shell.execute_reply": "2022-10-09T15:00:49.111887Z"
    },
    "papermill": {
     "duration": 0.020829,
     "end_time": "2022-10-09T15:00:49.114760",
     "exception": false,
     "start_time": "2022-10-09T15:00:49.093931",
     "status": "completed"
    },
    "tags": []
   },
   "outputs": [
    {
     "name": "stdout",
     "output_type": "stream",
     "text": [
      "Predicted: [30.5 33.   0.  33. ]\n",
      "Correct answer:\n",
      " 9    35.0\n",
      "7    26.0\n",
      "1     0.0\n",
      "8    25.0\n",
      "Name: height, dtype: float64\n"
     ]
    }
   ],
   "source": [
    "# 테스트 문제 전부 주고 테스트하기, test\n",
    "#predict= 맞춰봐, 예측해봐\n",
    "predicted = gildong.predict(test_X)\n",
    "print('Predicted:', predicted) #predict 출력 (맞춘문제 [44.75 14.   32.5  29.  ])\n",
    "print('Correct answer:\\n', test_y) #정답 출력 (정답)  \n",
    "# 12    50.0 정답이 50.0인데 44.75으로 문제 풀어냄\n",
    "# 4     16.0\n",
    "# 11    31.0\n",
    "# 7     26.0"
   ]
  },
  {
   "cell_type": "code",
   "execution_count": 20,
   "id": "98f18a8e",
   "metadata": {
    "execution": {
     "iopub.execute_input": "2022-10-09T15:00:49.135063Z",
     "iopub.status.busy": "2022-10-09T15:00:49.134721Z",
     "iopub.status.idle": "2022-10-09T15:00:49.144492Z",
     "shell.execute_reply": "2022-10-09T15:00:49.142861Z"
    },
    "papermill": {
     "duration": 0.022437,
     "end_time": "2022-10-09T15:00:49.146770",
     "exception": false,
     "start_time": "2022-10-09T15:00:49.124333",
     "status": "completed"
    },
    "tags": []
   },
   "outputs": [
    {
     "name": "stdout",
     "output_type": "stream",
     "text": [
      "[ 0.         30.5        52.33333333]\n"
     ]
    },
    {
     "name": "stderr",
     "output_type": "stream",
     "text": [
      "/opt/conda/lib/python3.7/site-packages/sklearn/base.py:451: UserWarning: X does not have valid feature names, but DecisionTreeRegressor was fitted with feature names\n",
      "  \"X does not have valid feature names, but\"\n"
     ]
    }
   ],
   "source": [
    "#테스트 문제 몇개 주고 테스트하기\n",
    "predicted = gildong.predict([[2], [11], [60]]) # 2일 11일 60일 주고 문제 맞추게하기\n",
    "print(predicted)"
   ]
  },
  {
   "cell_type": "code",
   "execution_count": 21,
   "id": "8ff56d7e",
   "metadata": {
    "execution": {
     "iopub.execute_input": "2022-10-09T15:00:49.168033Z",
     "iopub.status.busy": "2022-10-09T15:00:49.167242Z",
     "iopub.status.idle": "2022-10-09T15:00:49.173250Z",
     "shell.execute_reply": "2022-10-09T15:00:49.172486Z"
    },
    "papermill": {
     "duration": 0.01898,
     "end_time": "2022-10-09T15:00:49.175553",
     "exception": false,
     "start_time": "2022-10-09T15:00:49.156573",
     "status": "completed"
    },
    "tags": []
   },
   "outputs": [],
   "source": [
    "#기타 다른 머신러닝 알고리즘\n",
    "youngja = KNeighborsRegressor(n_neighbors=2)\n",
    "\n",
    "cheolsu = LinearRegression()\n",
    "\n",
    "minsu = RandomForestRegressor(n_estimators = 28, random_state = 0)"
   ]
  }
 ],
 "metadata": {
  "kernelspec": {
   "display_name": "Python 3",
   "language": "python",
   "name": "python3"
  },
  "language_info": {
   "codemirror_mode": {
    "name": "ipython",
    "version": 3
   },
   "file_extension": ".py",
   "mimetype": "text/x-python",
   "name": "python",
   "nbconvert_exporter": "python",
   "pygments_lexer": "ipython3",
   "version": "3.7.12"
  },
  "papermill": {
   "default_parameters": {},
   "duration": 13.235827,
   "end_time": "2022-10-09T15:00:50.110046",
   "environment_variables": {},
   "exception": null,
   "input_path": "__notebook__.ipynb",
   "output_path": "__notebook__.ipynb",
   "parameters": {},
   "start_time": "2022-10-09T15:00:36.874219",
   "version": "2.3.4"
  }
 },
 "nbformat": 4,
 "nbformat_minor": 5
}
